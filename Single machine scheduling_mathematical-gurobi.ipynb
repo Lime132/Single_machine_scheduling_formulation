{
 "cells": [
  {
   "cell_type": "code",
   "execution_count": 1,
   "metadata": {
    "executionInfo": {
     "elapsed": 17,
     "status": "ok",
     "timestamp": 1748257059877,
     "user": {
      "displayName": "Joonmo Sung",
      "userId": "09164233393338433441"
     },
     "user_tz": -540
    },
    "id": "pxo7IV3YOJvP"
   },
   "outputs": [],
   "source": [
    "import gurobipy as gp\n",
    "from gurobipy import GRB, quicksum"
   ]
  },
  {
   "cell_type": "code",
   "execution_count": 2,
   "metadata": {
    "executionInfo": {
     "elapsed": 20,
     "status": "ok",
     "timestamp": 1748257059898,
     "user": {
      "displayName": "Joonmo Sung",
      "userId": "09164233393338433441"
     },
     "user_tz": -540
    },
    "id": "8aaS0YBCOL8P"
   },
   "outputs": [],
   "source": [
    "# pip install gurobipy"
   ]
  },
  {
   "cell_type": "markdown",
   "metadata": {
    "id": "ySK7dyv5OJvQ"
   },
   "source": [
    "# 저자\n",
    "\n",
    "- TA: 성준모 (Joonmo Sung)\n",
    "- SYSTEMS MODELING AND PROGRAMMING LAB DEPARTMENT OF INDUSTRIAL ENGINEERING, YONSEI UNIVERSITY - SYMPLY\n",
    "- 문의: `sjm21314@naver.com`,`sjm21314@yonsei.ac.kr`\n",
    "***\n",
    "본 강의자료는 Keha,A. B.,Khowala,K.,&Fowler,J. W. (2009). Mixed integer programming formulations for single machine scheduling problems. Computers & Industrial Engineering, 56(1), 357-367 논문을 바탕으로 제작되었으며,\n",
    "\n",
    "반도체데이터사이언스 협동과정 수업 용도 이외의 목적으로 저자의 허락 없이 다른 사람들과 공유할 수 없습니다."
   ]
  },
  {
   "cell_type": "markdown",
   "metadata": {
    "id": "HyDHrUJyOJvQ"
   },
   "source": [
    "## Dataset\n",
    "### Set\n",
    "- N = $\\{1,2,...,n\\}, j \\in N$\n",
    "### Parameters\n",
    "- $p_j$: processing time of job $j$\n",
    "- $d_j$: due date of job $j$\n",
    "- $w_j$: weight of job $j$\n",
    "- $r_j$: release date of job $j$"
   ]
  },
  {
   "cell_type": "code",
   "execution_count": 3,
   "metadata": {
    "executionInfo": {
     "elapsed": 2,
     "status": "ok",
     "timestamp": 1748257059899,
     "user": {
      "displayName": "Joonmo Sung",
      "userId": "09164233393338433441"
     },
     "user_tz": -540
    },
    "id": "YiU068j5OJvQ"
   },
   "outputs": [],
   "source": [
    "# Offline 상황을 가정.\n",
    "\n",
    "n = 5 # 작업의 개수\n",
    "\n",
    "N = [_ for _ in range(n)] # 작업 set을 리스트 자료구조를 이용해 0, 1, 2,..., n-1 까지 담아줌\n",
    "p = [4, 3, 7, 2, 2] # 가공시간 데이터를 리스트 자료구조를 이용해 만들어 줌\n",
    "d = [5, 6, 8, 8, 17] # 납기 데이터를 리스트 자료구조를 이용해 만들어 줌\n",
    "w = [5, 4, 3, 2, 1] # 가중치 데이터를 리스트 자료구조를 이용해 만들어 줌\n",
    "r = [1, 2, 3, 3, 5] # 작업의 release date(도착 시점) 데이터를 리스트 자료구조를 이용해 만들어 줌\n",
    "\n",
    "M = (sum(p) + sum(r)) * 2 # big M"
   ]
  },
  {
   "cell_type": "code",
   "execution_count": 4,
   "metadata": {
    "colab": {
     "base_uri": "https://localhost:8080/"
    },
    "executionInfo": {
     "elapsed": 16,
     "status": "ok",
     "timestamp": 1748257059915,
     "user": {
      "displayName": "Joonmo Sung",
      "userId": "09164233393338433441"
     },
     "user_tz": -540
    },
    "id": "ahkg6f9XOJvR",
    "outputId": "78173f8f-d040-4908-83f0-ac92d301d3ae"
   },
   "outputs": [
    {
     "name": "stdout",
     "output_type": "stream",
     "text": [
      "[88 91 65 22 63 13  9 70 12 16 18 62 82 55 30]\n",
      "[ 1  5  2  5  3  5  5  5 10  2  5  8  9 10  6]\n",
      "[576 186 527 615  79 527 355 281  77 497 238 103 391  95 276]\n",
      "[186  22 147 214 184 176 163 246 263 205 142 265 176  72 122]\n"
     ]
    }
   ],
   "source": [
    "import numpy as np\n",
    "\n",
    "# random seed를 정해줌. 고정시 계속 같은 data가 만들어짐\n",
    "np.random.seed(917)\n",
    "n = 10\n",
    "# L, R은 임의로 고름\n",
    "L = 0.5 # {0.5, 0.7} 중 하나를 고르면 됨. release 데이터에서는 0.5로 고정\n",
    "R = 0.8 # {0.4, 0.8, 1.4} 중 하나를 고르면 됨\n",
    "Q = 0.4 # Q는 0.4로 고정\n",
    "\n",
    "\n",
    "N = [_ for _ in range(n)] # 작업 set을 리스트 자료구조를 이용해 0, 1, 2,..., n-1 까지 담아줌\n",
    "# Random generation 코드\n",
    "p = np.random.randint(1, 101, size=n) # processing time은 [1, 100] uniform 분포 따름\n",
    "w = np.random.randint(1, 11, size=n) # weight은 [1, 10] uniform 분포 따름\n",
    "d = np.random.randint(int(sum(p)*(L-R/2)), int(sum(p)*(L+R/2)) + 1, size = n) # [P(L - R/2), P(L + R/2)] 분포를 따름\n",
    "r = np.random.randint(0, int(Q * sum(p)) + 1, size=n) # [0, QP] 분포를 따름\n",
    "\n",
    "M = (sum(p) + sum(r)) * 2 # big M\n",
    "\n",
    "print(p)\n",
    "print(w)\n",
    "print(d)\n",
    "print(r)"
   ]
  },
  {
   "cell_type": "code",
   "execution_count": 5,
   "metadata": {
    "colab": {
     "base_uri": "https://localhost:8080/"
    },
    "executionInfo": {
     "elapsed": 47,
     "status": "ok",
     "timestamp": 1748257059963,
     "user": {
      "displayName": "Joonmo Sung",
      "userId": "09164233393338433441"
     },
     "user_tz": -540
    },
    "id": "Jl_F6eiOOf9R",
    "outputId": "ab66de80-9b88-4f2b-f87c-54c84b298764"
   },
   "outputs": [],
   "source": [
    "# Create an environment with your WLS license\n",
    "# params = {\n",
    "# \"WLSACCESSID\": 'your wls accessid (string)',\n",
    "# \"WLSSECRET\": 'your wls secret (string)',\n",
    "# \"LICENSEID\": <your license id (integer)>,\n",
    "# }\n",
    "# env = gp.Env(params=params)\n",
    "\n",
    "# # Create the model within the Gurobi environment\n",
    "# model = gp.Model(env=env)"
   ]
  },
  {
   "cell_type": "code",
   "execution_count": 6,
   "metadata": {
    "executionInfo": {
     "elapsed": 1,
     "status": "ok",
     "timestamp": 1748257059963,
     "user": {
      "displayName": "Joonmo Sung",
      "userId": "09164233393338433441"
     },
     "user_tz": -540
    },
    "id": "huDHpyE9OJvR"
   },
   "outputs": [],
   "source": [
    "obj_select = 'twt' # 'wct', 'tj', 'twt', 'L_max' 중 하나 선택\n",
    "release_time = False"
   ]
  },
  {
   "cell_type": "markdown",
   "metadata": {
    "id": "h2u93KjVOJvS"
   },
   "source": [
    "## 1. Completion time variables"
   ]
  },
  {
   "cell_type": "markdown",
   "metadata": {
    "id": "5az8PykvOJvS"
   },
   "source": [
    "### Decision Variables\n",
    "- $C_j$: 작업 $j$의 시작 시점 결정 $C_j \\geq 0 \\ \\forall j \\in N$\n",
    "- $y_{j,k}$: 작업 $j$가 $k$ 전에 작업 중인지 후에 작업중인지를 결정 $y_{j,k} \\in \\{0, 1\\} \\ \\forall j,k \\in N \\ and \\ j < k $"
   ]
  },
  {
   "cell_type": "code",
   "execution_count": 7,
   "metadata": {
    "executionInfo": {
     "elapsed": 37,
     "status": "ok",
     "timestamp": 1748257060001,
     "user": {
      "displayName": "Joonmo Sung",
      "userId": "09164233393338433441"
     },
     "user_tz": -540
    },
    "id": "hifwr_c5OJvS"
   },
   "outputs": [
    {
     "name": "stdout",
     "output_type": "stream",
     "text": [
      "Set parameter Username\n",
      "Set parameter LicenseID to value 2604879\n",
      "Academic license - for non-commercial use only - expires 2026-01-03\n"
     ]
    }
   ],
   "source": [
    "# 모델 선언\n",
    "model_MIP_1 = gp.Model(\"MIP_1\") # 먼저 모델 선언 \n",
    "\n",
    "# colab 경우\n",
    "# model_MIP_1 = gp.Model(\"MIP_1\", env = env) \n",
    "\n",
    "# Decision Variable 만들기\n",
    "C = {(j): model_MIP_1.addVar(vtype=GRB.CONTINUOUS, lb = 0, name=f\"C_{j+1}\") for j in N} # 연속 변수, lower bound 0 (0 이상)\n",
    "y =  {(j, k): model_MIP_1.addVar(vtype=GRB.BINARY, name=f\"y_{j+1}_{k+1}\") for j in N for k in N if j < k} # 이진 변수, j < k 는 그대로 써주면 됨"
   ]
  },
  {
   "cell_type": "markdown",
   "metadata": {
    "id": "Wre-sqk-OJvS"
   },
   "source": [
    "### 기본 제약식\n",
    "- $C_j \\geq p_j \\quad \\forall j \\in N$\n",
    "- $C_j + p_k \\leq C_k + M(1-y_{j,k}) \\quad \\forall j,k \\in N, j < k$\n",
    "- $C_k + p_j \\geq C_j + My_{j,k} \\quad \\forall j,k \\in N, j < k$"
   ]
  },
  {
   "cell_type": "code",
   "execution_count": 8,
   "metadata": {
    "executionInfo": {
     "elapsed": 16,
     "status": "ok",
     "timestamp": 1748257060002,
     "user": {
      "displayName": "Joonmo Sung",
      "userId": "09164233393338433441"
     },
     "user_tz": -540
    },
    "id": "taLjzG23OJvS"
   },
   "outputs": [],
   "source": [
    "# 제약식\n",
    "constraint1 =  {(j): model_MIP_1.addConstr(C[j] >= p[j], name = f\"constraint1_{j}\") for j in N}\n",
    "constraint2 =  {(j, k): model_MIP_1.addConstr(C[j] + p[k] <= C[k] + M*(1-y[j,k]), name = f\"constraint2_{j}_{k}\") for j in N for k in N if j < k}\n",
    "constraint3 =  {(j, k): model_MIP_1.addConstr(C[k] + p[j] <= C[j] + M*y[j,k], name = f\"constraint3_{j}_{k}\") for j in N for k in N if j < k}"
   ]
  },
  {
   "cell_type": "markdown",
   "metadata": {
    "id": "Jouq4UWBOJvS"
   },
   "source": [
    "#### Release time 반영 제약식\n",
    "$ C_j \\geq p_j + r_j \\quad \\forall j \\in N$"
   ]
  },
  {
   "cell_type": "code",
   "execution_count": 9,
   "metadata": {
    "executionInfo": {
     "elapsed": 4,
     "status": "ok",
     "timestamp": 1748257060002,
     "user": {
      "displayName": "Joonmo Sung",
      "userId": "09164233393338433441"
     },
     "user_tz": -540
    },
    "id": "AAY3I2FgOJvT"
   },
   "outputs": [],
   "source": [
    "# 문제에 release time을 반영하려면 아래 제약식 추가\n",
    "if release_time == True:\n",
    "    constraint4 = {(j): model_MIP_1.addConstr(C[j] >= p[j] + r[j], name = f\"constraint_{j}\") for j in N}"
   ]
  },
  {
   "cell_type": "markdown",
   "metadata": {
    "id": "owQ0FsruOJvT"
   },
   "source": [
    "### 목적식"
   ]
  },
  {
   "cell_type": "markdown",
   "metadata": {
    "id": "wbL5b1o1OJvT"
   },
   "source": [
    "#### To minimize the total weighted completion time\n",
    "$ Minimize \\sum_{j = 1}^n w_j C_j$"
   ]
  },
  {
   "cell_type": "code",
   "execution_count": 10,
   "metadata": {
    "executionInfo": {
     "elapsed": 3,
     "status": "ok",
     "timestamp": 1748257060002,
     "user": {
      "displayName": "Joonmo Sung",
      "userId": "09164233393338433441"
     },
     "user_tz": -540
    },
    "id": "F7YHVtDOOJvT"
   },
   "outputs": [],
   "source": [
    "if obj_select == \"wct\":\n",
    "    # 목적식\n",
    "    model_MIP_1.setObjective(quicksum(w[j]*C[j] for j in N), GRB.MINIMIZE)"
   ]
  },
  {
   "cell_type": "markdown",
   "metadata": {
    "id": "uSrRvG4DOJvT"
   },
   "source": [
    "#### To minimize $L_{max}$\n",
    "$ Minimize \\ L_{max}$\n",
    "$ \\\\ s.t. \\  L_{max} \\geq (C_j - d_j) \\quad \\forall j \\in N$"
   ]
  },
  {
   "cell_type": "code",
   "execution_count": 11,
   "metadata": {
    "executionInfo": {
     "elapsed": 3,
     "status": "ok",
     "timestamp": 1748257060003,
     "user": {
      "displayName": "Joonmo Sung",
      "userId": "09164233393338433441"
     },
     "user_tz": -540
    },
    "id": "gbBUtLcWOJvT"
   },
   "outputs": [],
   "source": [
    "if obj_select == \"L_max\":\n",
    "    # Lmax 선언\n",
    "    L_max = model_MIP_1.addVar(vtype=GRB.CONTINUOUS, lb = 0, name= \"L_max\") # L_max를 나타내는 연속형 변수\n",
    "\n",
    "    # Lmax 제약식\n",
    "    constraint =  {(j): model_MIP_1.addConstr(L_max >= (C[j] - d[j]), name = f\"constraint_{j}\") for j in N}\n",
    "\n",
    "    # 목적식\n",
    "    model_MIP_1.setObjective(L_max, GRB.MINIMIZE)"
   ]
  },
  {
   "cell_type": "markdown",
   "metadata": {
    "id": "4JWP18tyOJvT"
   },
   "source": [
    "#### To minimize the number of tardy jobs\n",
    "\n",
    "$ Minimize \\ \\sum_{j=1}^n U_j$\n",
    "$ \\\\ s.t. \\ C_j \\leq d_j + MU_j \\quad \\forall j \\in N$\n",
    "$ \\\\ U_j \\in \\{0, 1\\} \\quad \\forall j \\in N$"
   ]
  },
  {
   "cell_type": "code",
   "execution_count": 12,
   "metadata": {
    "executionInfo": {
     "elapsed": 3,
     "status": "ok",
     "timestamp": 1748257060003,
     "user": {
      "displayName": "Joonmo Sung",
      "userId": "09164233393338433441"
     },
     "user_tz": -540
    },
    "id": "PbD4TfcpOJvT"
   },
   "outputs": [],
   "source": [
    "if obj_select == \"tj\":\n",
    "    U =  {(j): model_MIP_1.addVar(vtype=GRB.BINARY, name=f\"U_{j+1}\") for j in N} # j가 Tardy job이면 1, 아니면 0인 이진변수\n",
    "\n",
    "    # Tardy job 제약식\n",
    "    constraint =  {(j): model_MIP_1.addConstr(C[j] <= d[j] + M*U[j], name = f\"constraint_{j}\") for j in N}\n",
    "\n",
    "    # 목적식\n",
    "    model_MIP_1.setObjective(quicksum(U[j] for j in N), GRB.MINIMIZE)"
   ]
  },
  {
   "cell_type": "markdown",
   "metadata": {
    "id": "15I-xbvZOJvT"
   },
   "source": [
    "#### To minimize the total weighted tardiness\n",
    "\n",
    "$ Minimize \\ \\sum_{j=1}^n w_jT_j$\n",
    "$ \\\\ s.t. \\ T_j \\geq C_j - d_j \\quad \\forall j \\in N$\n",
    "$ \\\\ T_j \\geq 0 \\quad \\forall j \\in N$"
   ]
  },
  {
   "cell_type": "code",
   "execution_count": 13,
   "metadata": {
    "executionInfo": {
     "elapsed": 1,
     "status": "ok",
     "timestamp": 1748257060005,
     "user": {
      "displayName": "Joonmo Sung",
      "userId": "09164233393338433441"
     },
     "user_tz": -540
    },
    "id": "RBZ5kRKCOJvT"
   },
   "outputs": [],
   "source": [
    "if obj_select == \"twt\":\n",
    "    T = {(j): model_MIP_1.addVar(vtype=GRB.CONTINUOUS, lb = 0, name=f\"T_{j+1}\") for j in N} # j에 대한 Tardiness 연속형 변수, lower bound 0 (0 이상)\n",
    "\n",
    "    # Tardiness 제약식\n",
    "    constraint =  {(j): model_MIP_1.addConstr(T[j] >= C[j] - d[j], name = f\"constraint_{j}\") for j in N}\n",
    "\n",
    "    # 목적식\n",
    "    model_MIP_1.setObjective(quicksum(w[j]*T[j] for j in N), GRB.MINIMIZE)"
   ]
  },
  {
   "cell_type": "markdown",
   "metadata": {
    "id": "38GrVaINOJvT"
   },
   "source": [
    "## 2. Time index variables\n",
    "### Sets\n",
    "- T: planning horizon ids discretized into the periods 1,2,3,...T"
   ]
  },
  {
   "cell_type": "code",
   "execution_count": 14,
   "metadata": {
    "executionInfo": {
     "elapsed": 2,
     "status": "ok",
     "timestamp": 1748257060006,
     "user": {
      "displayName": "Joonmo Sung",
      "userId": "09164233393338433441"
     },
     "user_tz": -540
    },
    "id": "SrC3mQhyOJvT"
   },
   "outputs": [],
   "source": [
    "T = [_ for _ in range(sum(p) * 2)] # 넉넉하게 processing time 합 * 2 로 선택 -> processing time, release time이 늘어난다면 늘려줘야 함, T가 작을수록 공간복잡도 감소"
   ]
  },
  {
   "cell_type": "markdown",
   "metadata": {
    "id": "uUpY8iqYOJvT"
   },
   "source": [
    "### Decision Variables\n",
    "- $x_{j,t}$: 작업 $j$가 period t에서 시작하면 1, 아니면 0인 이진변수, $x_{j,t} \\in \\{0, 1\\} \\ \\forall j \\in N, \\forall t \\in T$"
   ]
  },
  {
   "cell_type": "code",
   "execution_count": 15,
   "metadata": {
    "executionInfo": {
     "elapsed": 60,
     "status": "ok",
     "timestamp": 1748257060077,
     "user": {
      "displayName": "Joonmo Sung",
      "userId": "09164233393338433441"
     },
     "user_tz": -540
    },
    "id": "JOEWOHopOJvT"
   },
   "outputs": [],
   "source": [
    "model_MIP_2 = gp.Model(\"MIP_2\") # 먼저 모델 선언\n",
    "\n",
    "# colab 경우\n",
    "# model_MIP_2 = gp.Model(\"MIP_2\", env = env) \n",
    "\n",
    "# Decision Variable 만들기\n",
    "x =  {(j, t): model_MIP_2.addVar(vtype=GRB.BINARY, name=f\"x_{j+1}_{t}\") for j in N for t in T} # 이진 변수, j < k 는 그대로 써주면 됨"
   ]
  },
  {
   "cell_type": "markdown",
   "metadata": {
    "id": "iAUPHM6_OJvT"
   },
   "source": [
    "### 기본 constraint\n",
    "- $\\sum_{t=1}^{|T|-p_j+1} x_{j,t} = 1 \\quad \\forall j \\in N$\n",
    "- $\\sum_{j=1}^n \\sum_{s = max(0, t-p_j+1)}^t x_{j,s} \\quad \\forall t \\in T$"
   ]
  },
  {
   "cell_type": "code",
   "execution_count": 16,
   "metadata": {
    "executionInfo": {
     "elapsed": 800,
     "status": "ok",
     "timestamp": 1748257060863,
     "user": {
      "displayName": "Joonmo Sung",
      "userId": "09164233393338433441"
     },
     "user_tz": -540
    },
    "id": "3qUXg_4rOJvT"
   },
   "outputs": [],
   "source": [
    "constraint1 = {(j): model_MIP_2.addConstr(quicksum(x[j,t] for t in range(0, len(T)-p[j]+1)) == 1, name = f\"constraint1_{j}\") for j in N}\n",
    "constraint2 = {(t): model_MIP_2.addConstr(quicksum(quicksum(x[j,s] for s in range(max(0, t-p[j]+1), t + 1)) for j in N) <= 1, name = f\"constraint2_{t}\") for t in T}"
   ]
  },
  {
   "cell_type": "markdown",
   "metadata": {
    "id": "yWzEzW8BOJvT"
   },
   "source": [
    "#### Release time 반영 제약식\n",
    "$ x_{j,t} = 0 \\quad \\forall t \\leq r_j, \\forall j \\in J $"
   ]
  },
  {
   "cell_type": "code",
   "execution_count": 17,
   "metadata": {
    "executionInfo": {
     "elapsed": 3,
     "status": "ok",
     "timestamp": 1748257060867,
     "user": {
      "displayName": "Joonmo Sung",
      "userId": "09164233393338433441"
     },
     "user_tz": -540
    },
    "id": "GTO4ZYNYOJvT"
   },
   "outputs": [],
   "source": [
    "if release_time == True:\n",
    "    constraint3 = {(j, t): model_MIP_2.addConstr(x[j,t] == 0, name = f\"constraint3_{j}_{t}\") for j in N for t in T if t + 1 <= r[j]}"
   ]
  },
  {
   "cell_type": "markdown",
   "metadata": {
    "id": "FT43ctjpOJvT"
   },
   "source": [
    "#### To minimize the total weighted completion time\n",
    "$ Minimize \\sum_{j = 1}^n\\sum_{t=1}^{|T|-p_j+1} \\xi_{j,t} x_{j,t}$\n",
    "$\\\\ \\xi_{j,t} = w_j(t-1+p_j) \\quad \\forall j \\in N, \\forall t \\in T$"
   ]
  },
  {
   "cell_type": "code",
   "execution_count": 18,
   "metadata": {
    "executionInfo": {
     "elapsed": 4,
     "status": "ok",
     "timestamp": 1748257060868,
     "user": {
      "displayName": "Joonmo Sung",
      "userId": "09164233393338433441"
     },
     "user_tz": -540
    },
    "id": "HNZ24uSjOJvT"
   },
   "outputs": [],
   "source": [
    "if obj_select == \"wct\":\n",
    "    # 크사이 데이터 셋을 리스트로 구현하여 사용\n",
    "    xi = [[w[j]*(t + p[j]) for t in T] for j in N] # t = 0 부터 시작하기에 1을 빼줄 필요 없음 논문은 1부터 시작해서 그런 것임\n",
    "\n",
    "    # 목적식\n",
    "    model_MIP_2.setObjective(quicksum(quicksum(xi[j][t] * x[j,t] for t in range(0, len(T)-p[j]+1)) for j in N), GRB.MINIMIZE)"
   ]
  },
  {
   "cell_type": "markdown",
   "metadata": {
    "id": "eL8L5EQ4OJvT"
   },
   "source": [
    "#### To minimize the number of tardy jobs\n",
    "$ Minimize \\sum_{j = 1}^n\\sum_{t=1}^{|T|-p_j+1} \\xi_{j,t} x_{j,t}$\n",
    "$ \\\\ \\xi_{j,t} = 1, \\  if \\  t > (d_j-p_j+1), \\quad \\forall j \\in N, \\forall t \\in T \\\\ 0, \\ otherwise $"
   ]
  },
  {
   "cell_type": "code",
   "execution_count": 19,
   "metadata": {
    "executionInfo": {
     "elapsed": 2,
     "status": "ok",
     "timestamp": 1748257060868,
     "user": {
      "displayName": "Joonmo Sung",
      "userId": "09164233393338433441"
     },
     "user_tz": -540
    },
    "id": "YikuBW-iOJvT"
   },
   "outputs": [],
   "source": [
    "if obj_select == \"tj\":\n",
    "    # 크사이 데이터 셋을 리스트로 구현하여 사용\n",
    "    xi = [[1 if t > (d[j] - p[j]) else 0 for t in T] for j in N] # t = 0 부터 시작하기에 1을 빼줄 필요 없음 논문은 1부터 시작해서 그런 것임\n",
    "\n",
    "    # 목적식\n",
    "    model_MIP_2.setObjective(quicksum(quicksum(xi[j][t] * x[j,t] for t in range(0, len(T)-p[j]+1)) for j in N), GRB.MINIMIZE)"
   ]
  },
  {
   "cell_type": "markdown",
   "metadata": {
    "id": "4JiSYJ1oOJvU"
   },
   "source": [
    "#### To minimize the total weighted tardiness\n",
    "$ Minimize \\sum_{j = 1}^n\\sum_{t=1}^{|T|-p_j+1} \\xi_{j,t} x_{j,t}$\n",
    "$ \\\\ \\xi_{j,t} = w_j\\max(0, t - 1 + p_j - d_j), \\quad \\forall j \\in N, \\forall t \\in T$"
   ]
  },
  {
   "cell_type": "code",
   "execution_count": 20,
   "metadata": {
    "executionInfo": {
     "elapsed": 358,
     "status": "ok",
     "timestamp": 1748257061224,
     "user": {
      "displayName": "Joonmo Sung",
      "userId": "09164233393338433441"
     },
     "user_tz": -540
    },
    "id": "l1qAN9ivOJvU"
   },
   "outputs": [],
   "source": [
    "if obj_select == \"twt\":\n",
    "    # 크사이 데이터 셋을 리스트로 구현하여 사용\n",
    "    xi = [[w[j]*max(0, t + p[j] - d[j]) for t in T] for j in N] # t = 0 부터 시작하기에 1을 빼줄 필요 없음 논문은 1부터 시작해서 그런 것임\n",
    "\n",
    "    # 목적식\n",
    "    model_MIP_2.setObjective(quicksum(quicksum(xi[j][t] * x[j,t] for t in range(0, len(T)-p[j]+1)) for j in N), GRB.MINIMIZE)"
   ]
  },
  {
   "cell_type": "markdown",
   "metadata": {
    "id": "XhTkOmbKOJvU"
   },
   "source": [
    "#### To minimize $L_{max}$\n",
    "$ Minimize \\ L_{max}$\n",
    "$ \\\\ s.t. \\  L_{max} \\geq (C_j - d_j) \\quad \\forall j \\in N$\n",
    "$ \\\\ C_j = \\sum_{t=1}^{|T|-p_j+1}(t-1+p_j)x_{j,t} \\quad \\forall j \\in N$"
   ]
  },
  {
   "cell_type": "code",
   "execution_count": 21,
   "metadata": {
    "executionInfo": {
     "elapsed": 6,
     "status": "ok",
     "timestamp": 1748257061230,
     "user": {
      "displayName": "Joonmo Sung",
      "userId": "09164233393338433441"
     },
     "user_tz": -540
    },
    "id": "84IJHwS7OJvU"
   },
   "outputs": [],
   "source": [
    "if obj_select == \"L_max\":\n",
    "    # Lmax 선언\n",
    "    L_max = model_MIP_2.addVar(vtype=GRB.CONTINUOUS, lb = 0, name= \"L_max\") # L_max를 나타내는 연속형 변수\n",
    "\n",
    "    # Lmax 제약식\n",
    "    constraint =  {(j): model_MIP_2.addConstr(L_max >= (quicksum((t+p[j]) * x[j,t] for t in range(0, len(T)-p[j]+1))- d[j]), name = f\"constraint_{j}\") for j in N} # C_j 대신 바로 x제약식 넣어줌. 그리고 t = 0부터 시작하니까 t-1 해줄 필요 없음\n",
    "\n",
    "    # 목적식\n",
    "    model_MIP_2.setObjective(L_max, GRB.MINIMIZE)"
   ]
  },
  {
   "cell_type": "markdown",
   "metadata": {
    "id": "Y79zvDwHOJvU"
   },
   "source": [
    "## 3. Linear ordering variables"
   ]
  },
  {
   "cell_type": "markdown",
   "metadata": {
    "id": "d4LfQrInOJvW"
   },
   "source": [
    "### Decision Variables\n",
    "- $\\delta_{j,k}$: 작업 $j$가 작업 $k$보다 앞에서 시작하면 1, 아니면 0인 이진변수, $\\delta_{j,k} \\in \\{0, 1\\} \\ \\forall j \\in N, \\forall k \\in N$\n",
    "- $S_j$: 작업 $j$의 시작 시점을 의미"
   ]
  },
  {
   "cell_type": "code",
   "execution_count": 22,
   "metadata": {
    "executionInfo": {
     "elapsed": 13,
     "status": "ok",
     "timestamp": 1748257061246,
     "user": {
      "displayName": "Joonmo Sung",
      "userId": "09164233393338433441"
     },
     "user_tz": -540
    },
    "id": "aggoXg-4OJvW"
   },
   "outputs": [],
   "source": [
    "model_MIP_3 = gp.Model(\"MIP_3\")\n",
    "\n",
    "# colab 경우\n",
    "# model_MIP_3 = gp.Model(\"MIP_3\", env = env) \n",
    "\n",
    "# Decision Variable 만들기\n",
    "delta = {(j, k): model_MIP_3.addVar(vtype=GRB.BINARY, name=f\"delta_{j+1}_{k+1}\") for j in N for k in N}\n",
    "\n",
    "if release_time == True:\n",
    "    S = {(j): model_MIP_3.addVar(vtype = GRB.CONTINUOUS, lb = 0, name=f'S_{j+1}') for j in N}"
   ]
  },
  {
   "cell_type": "markdown",
   "metadata": {
    "id": "iXANaEPqOJvW"
   },
   "source": [
    "### 기본 constraint\n",
    "- $\\delta_{j,k} + \\delta_{k,j} = 1 \\quad \\forall j,k \\in N, \\ 1 \\leq j < k \\leq n,$, j<k 가 맞음. 등호 있을 시 infeasible\n",
    "- $\\delta_{j,k} + \\delta_{k,l} + \\delta_{l,j} \\leq 2 \\quad \\forall j,k,l \\in N, \\ and \\ j \\neq k \\neq l$"
   ]
  },
  {
   "cell_type": "code",
   "execution_count": 23,
   "metadata": {
    "executionInfo": {
     "elapsed": 164,
     "status": "ok",
     "timestamp": 1748257061420,
     "user": {
      "displayName": "Joonmo Sung",
      "userId": "09164233393338433441"
     },
     "user_tz": -540
    },
    "id": "-c0tdHwCOJvW"
   },
   "outputs": [],
   "source": [
    "constraint1 = {(j, k): model_MIP_3.addConstr(delta[j,k] + delta[k,j] == 1, name = f\"constraint1_{j}_{k}\") for j in N for k in N if j < k}\n",
    "constraint2 = {(j, k, l): model_MIP_3.addConstr(delta[j,k] + delta[k,l] + delta[l,j] <= 2, name = f\"constraint2_{j}_{k}_{l}\") for j in N for k in N for l in N if j != k and k != l and j != l}"
   ]
  },
  {
   "cell_type": "markdown",
   "metadata": {
    "id": "S7GBrjtQOJvW"
   },
   "source": [
    "#### Release time 반영 제약식\n",
    "$ S_j \\geq r_i \\delta_{i,j} + \\sum_{k < i, k\\neq j}p_k(\\delta_{i,k} + \\delta_{k,j} -1) + \\sum_{k \\geq i, k \\neq j}p_k \\delta_{k,j} \\quad \\forall i, j \\in N$\n",
    "$ \\\\ \\delta_{j,j} = 1, \\quad \\forall j \\in N$\n",
    "#### 논문의 식 제대로 작동하지 않았음. 새로운 아래 수식으로 대체\n",
    "$ \\\\ S_j \\geq r_j \\quad \\forall j \\in N$\n",
    "$ \\\\ S_k \\geq S_j + p_j - M(1-\\delta_{j,k}) \\quad \\forall j \\in N, \\forall k \\in N, j \\neq k$\n",
    "$ \\\\ S_j \\geq S_k + p_k - M\\delta_{j,k}  \\quad \\forall j \\in N, \\forall k \\in N, j \\neq k$"
   ]
  },
  {
   "cell_type": "code",
   "execution_count": 24,
   "metadata": {
    "executionInfo": {
     "elapsed": 1,
     "status": "ok",
     "timestamp": 1748257061422,
     "user": {
      "displayName": "Joonmo Sung",
      "userId": "09164233393338433441"
     },
     "user_tz": -540
    },
    "id": "vLSAu_LdOJvW"
   },
   "outputs": [],
   "source": [
    "if release_time == True:\n",
    "    # constraint3 = {(i,j): model_MIP_3.addConstr(S[j] >= r[i]*delta[i,j] + quicksum(p[k] * (delta[i,k] + delta[k,j] - 1) for k in range(0, i) if k != j) + quicksum(p[k]*delta[k,j] for k in range(i, n) if k != j), name = f\"constraint3_{i}_{j}\") for i in N for j in N}\n",
    "    # constraint4 = {(j): model_MIP_3.addConstr(delta[j,j] == 1, name = f\"constraint4_{j}\") for j in N}\n",
    "    constraint3 = {(j): model_MIP_3.addConstr(S[j] >= r[j], name = f\"constraint_{j}\") for j in N}\n",
    "    constraint4 = {(j, k): model_MIP_3.addConstr(S[k] >= S[j] + p[j] - M*(1-delta[j,k]), name = f\"constraint4_{j}_{k}\") for j in N for k in N if j != k}\n",
    "    constraint4 = {(j, k): model_MIP_3.addConstr(S[j] >= S[k] + p[k] - M*(delta[j,k]), name = f\"constraint5_{j}_{k}\") for j in N for k in N if j != k}"
   ]
  },
  {
   "cell_type": "markdown",
   "metadata": {
    "id": "-jCd-w0COJvX"
   },
   "source": [
    "#### To minimize the total weighted completion time\n",
    "$ Minimize \\sum_{j,k \\in N, k \\neq j}w_jp_j\\delta_{k,j} + \\sum_{j \\in N}w_jp_j$\n",
    "#### To minimize the total weighted completion time with release time\n",
    "$ Minimize \\sum_{j \\in N}w_j(S_j + p_j)$"
   ]
  },
  {
   "cell_type": "code",
   "execution_count": 25,
   "metadata": {
    "executionInfo": {
     "elapsed": 0,
     "status": "ok",
     "timestamp": 1748257061423,
     "user": {
      "displayName": "Joonmo Sung",
      "userId": "09164233393338433441"
     },
     "user_tz": -540
    },
    "id": "ThKyetaCOJvX"
   },
   "outputs": [],
   "source": [
    "if obj_select == 'wct':\n",
    "    if release_time == False:\n",
    "        # 목적식\n",
    "        model_MIP_3.setObjective(quicksum(w[j]*p[k]*delta[k,j] for j in N for k in N if k != j) + quicksum(w[j]*p[j] for j in N), GRB.MINIMIZE)\n",
    "    elif release_time == True:\n",
    "        model_MIP_3.setObjective(quicksum(w[j]* (S[j] + p[j]) for j in N), GRB.MINIMIZE)"
   ]
  },
  {
   "cell_type": "markdown",
   "metadata": {
    "id": "9NpACj0nOJvX"
   },
   "source": [
    "#### To minimize $L_{max}$\n",
    "$ Minimize \\ L_{max}$\n",
    "$ \\\\ s.t. \\  L_{max} \\geq (C_j - d_j) \\quad \\forall j \\in N$\n",
    "$ \\\\ C_j = \\sum_{k \\in N, k \\neq j}p_k\\delta_{k,j} + p_j \\quad \\forall j \\in N$\n",
    "#### To minimize $L_{max}$ with release time\n",
    "$ \\\\ s.t. \\  L_{max} \\geq S_j + p_j - d_j \\quad \\forall j \\in N$"
   ]
  },
  {
   "cell_type": "code",
   "execution_count": 26,
   "metadata": {
    "executionInfo": {
     "elapsed": 1,
     "status": "ok",
     "timestamp": 1748257061425,
     "user": {
      "displayName": "Joonmo Sung",
      "userId": "09164233393338433441"
     },
     "user_tz": -540
    },
    "id": "XalHFSX7OJvX"
   },
   "outputs": [],
   "source": [
    "if obj_select == \"L_max\":\n",
    "    # Lmax 선언\n",
    "    L_max = model_MIP_3.addVar(vtype=GRB.CONTINUOUS, lb = 0, name= \"L_max\") # L_max를 나타내는 연속형 변수\n",
    "\n",
    "    if release_time == False:\n",
    "        # Lmax 제약식\n",
    "        constraint = {(j): model_MIP_3.addConstr(L_max >= (quicksum(p[k]*delta[k,j] for k in N if k != j) + p[j] - d[j]), name = f\"constraint_{j}\") for j in N} # C_j 대신 바로 x제약식 넣어줌. 그리고 t = 0부터 시작하니까 t-1 해줄 필요 없음\n",
    "    elif release_time == True:\n",
    "        constraint = {(j): model_MIP_3.addConstr(L_max >= S[j] + p[j] - d[j], name = f\"constraint_{j}\") for j in N}\n",
    "\n",
    "    # 목적식\n",
    "    model_MIP_3.setObjective(L_max, GRB.MINIMIZE)"
   ]
  },
  {
   "cell_type": "markdown",
   "metadata": {
    "id": "_oeattbROJvX"
   },
   "source": [
    "#### To minimize the number of tardy jobs\n",
    "\n",
    "$ Minimize \\ \\sum_{j=1}^n U_j$\n",
    "$ \\\\ s.t. \\ C_j \\leq d_j + MU_j \\quad \\forall j \\in N$\n",
    "$ \\\\ U_j \\in \\{0, 1\\} \\quad \\forall j \\in N$\n",
    "$ \\\\ C_j = \\sum_{k \\in N, k \\neq j}p_k\\delta_{k,j} + p_j \\quad \\forall j \\in N$\n",
    "\n",
    "#### To minimize the number of tardy jobs release time\n",
    "$ \\\\ s.t. \\  S_j + p_j \\leq d_j + MU_j \\quad \\forall j \\in N $"
   ]
  },
  {
   "cell_type": "code",
   "execution_count": 27,
   "metadata": {
    "executionInfo": {
     "elapsed": 14,
     "status": "ok",
     "timestamp": 1748257061439,
     "user": {
      "displayName": "Joonmo Sung",
      "userId": "09164233393338433441"
     },
     "user_tz": -540
    },
    "id": "O9SbqgF9OJvX"
   },
   "outputs": [],
   "source": [
    "if obj_select == \"tj\":\n",
    "    U =  {(j): model_MIP_3.addVar(vtype=GRB.BINARY, name=f\"U_{j+1}\") for j in N} # j가 Tardy job이면 1, 아니면 0인 이진변수\n",
    "\n",
    "    if release_time == False:\n",
    "        # Tardy job 제약식\n",
    "        constraint = {(j): model_MIP_3.addConstr(quicksum(p[k]*delta[k,j] for k in N if k != j) + p[j] <= d[j] + M*U[j], name = f\"constraint_{j}\") for j in N}\n",
    "    elif release_time == True:\n",
    "        constraint = {(j): model_MIP_3.addConstr(S[j] + p[j] <= d[j] + M*U[j], name = f\"constraint_{j}\") for j in N}\n",
    "\n",
    "    # 목적식\n",
    "    model_MIP_3.setObjective(quicksum(U[j] for j in N), GRB.MINIMIZE)"
   ]
  },
  {
   "cell_type": "markdown",
   "metadata": {
    "id": "pGRfdnR0OJvX"
   },
   "source": [
    "#### To minimize the total weighted tardiness\n",
    "\n",
    "$ Minimize \\ \\sum_{j=1}^n w_jT_j$\n",
    "$ \\\\ s.t. \\ T_j \\geq C_j - d_j \\quad \\forall j \\in N$\n",
    "$ \\\\ T_j \\geq 0 \\quad \\forall j \\in N$\n",
    "$ \\\\ C_j = \\sum_{k \\in N, k \\neq j}p_k\\delta_{k,j} + p_j \\quad \\forall j \\in N$\n",
    "\n",
    "#### To minimize the total weighted tardiness with release time\n",
    "\n",
    "$ \\\\ s.t. \\ T_j \\geq S_j + p_j -d_j \\quad \\forall j \\in N$"
   ]
  },
  {
   "cell_type": "code",
   "execution_count": 28,
   "metadata": {
    "executionInfo": {
     "elapsed": 34,
     "status": "ok",
     "timestamp": 1748257061472,
     "user": {
      "displayName": "Joonmo Sung",
      "userId": "09164233393338433441"
     },
     "user_tz": -540
    },
    "id": "OsSqCDzIOJvX"
   },
   "outputs": [],
   "source": [
    "if obj_select == \"twt\":\n",
    "    T = {(j): model_MIP_3.addVar(vtype=GRB.CONTINUOUS, lb = 0, name=f\"T_{j+1}\") for j in N} # j에 대한 Tardiness 연속형 변수, lower bound 0 (0 이상)\n",
    "\n",
    "    if release_time == False:\n",
    "        # Tardiness 제약식\n",
    "        constraint = {(j): model_MIP_3.addConstr(T[j] >= quicksum(p[k]*delta[k,j] for k in N if k != j) + p[j] - d[j], name = f\"constraint_{j}\") for j in N}\n",
    "    elif release_time == True:\n",
    "        constraint = {(j): model_MIP_3.addConstr(T[j] >= S[j] + p[j] - d[j], name = f\"constraint_{j}\") for j in N}\n",
    "\n",
    "    # 목적식\n",
    "    model_MIP_3.setObjective(quicksum(w[j]*T[j] for j in N), GRB.MINIMIZE)"
   ]
  },
  {
   "cell_type": "markdown",
   "metadata": {
    "id": "m-ilp_PlOJvX"
   },
   "source": [
    "## 4. Assignment and positional date variables"
   ]
  },
  {
   "cell_type": "markdown",
   "metadata": {
    "id": "ViHuN2isOJvX"
   },
   "source": [
    "### Decision Variables\n",
    "- $u_{j,k}$: 작업 $j$가 position k에 있으면 1, 아니면 0인 이진변수, $u_{j,k} \\in \\{0, 1\\} \\ \\forall j \\in N, \\forall k \\in N$\n",
    "- $\\gamma_j$: 작업 $j$의 completion time"
   ]
  },
  {
   "cell_type": "code",
   "execution_count": 29,
   "metadata": {
    "executionInfo": {
     "elapsed": 2,
     "status": "ok",
     "timestamp": 1748257061473,
     "user": {
      "displayName": "Joonmo Sung",
      "userId": "09164233393338433441"
     },
     "user_tz": -540
    },
    "id": "xVvviy5GOJvX"
   },
   "outputs": [],
   "source": [
    "model_MIP_4 = gp.Model(\"MIP_4\")\n",
    "\n",
    "# colab 경우\n",
    "# model_MIP_4 = gp.Model(\"MIP_4\", env = env) \n",
    "\n",
    "# Decision Variable 만들기\n",
    "u = {(j,k): model_MIP_4.addVar(vtype = GRB.BINARY, name = f\"u_{j}_{k}\") for j in N for k in N}\n",
    "gamma = {(j): model_MIP_4.addVar(vtype=GRB.CONTINUOUS, lb = 0, name=f\"gamma_{j+1}\") for j in N}"
   ]
  },
  {
   "cell_type": "markdown",
   "metadata": {
    "id": "NiqkCmkHOJvX"
   },
   "source": [
    "### 기본 constraint\n",
    "- $\\sum_{k \\in N}u_{j,k} = 1 \\quad \\forall j \\in N$\n",
    "- $\\sum_{j \\in N}u_{j,k} = 1 \\quad \\forall k \\in N$\n",
    "- $\\gamma_j \\geq \\sum_{j \\in N}p_ju_{j,1} $\n",
    "- $\\gamma_k \\geq \\gamma_{k-1} + \\sum_{j \\in N}p_ju_{j,k} \\quad \\forall k = 2,3,..N$\n"
   ]
  },
  {
   "cell_type": "code",
   "execution_count": 30,
   "metadata": {
    "executionInfo": {
     "elapsed": 0,
     "status": "ok",
     "timestamp": 1748257061474,
     "user": {
      "displayName": "Joonmo Sung",
      "userId": "09164233393338433441"
     },
     "user_tz": -540
    },
    "id": "bmyginKpOJvX"
   },
   "outputs": [],
   "source": [
    "constraint1 = {(j): model_MIP_4.addConstr(quicksum(u[j,k] for k in N) == 1, name = f\"constraint1_{j}\") for j in N}\n",
    "constraint2 = {(k): model_MIP_4.addConstr(quicksum(u[j,k] for j in N) == 1, name = f\"constraint2_{k}\") for k in N}\n",
    "constraint3 = model_MIP_4.addConstr(gamma[0] >= quicksum(p[j]*u[j,0] for j in N))\n",
    "constraint4 = {(k): model_MIP_4.addConstr(gamma[k] >= gamma[k-1] + quicksum(p[j]*u[j,k] for j in N), name = f\"constraint4_{k}\") for k in N[1:]}"
   ]
  },
  {
   "cell_type": "markdown",
   "metadata": {
    "id": "YJzkAOUEOJvX"
   },
   "source": [
    "#### Release time 반영 제약식\n",
    "$\\gamma_k \\geq \\sum_{j \\in N}(p_j + r_j)u_{j,k} \\quad \\forall k \\in N$"
   ]
  },
  {
   "cell_type": "code",
   "execution_count": 31,
   "metadata": {
    "executionInfo": {
     "elapsed": 1,
     "status": "ok",
     "timestamp": 1748257061476,
     "user": {
      "displayName": "Joonmo Sung",
      "userId": "09164233393338433441"
     },
     "user_tz": -540
    },
    "id": "nf-aJSk4OJvX"
   },
   "outputs": [],
   "source": [
    "if release_time == True:\n",
    "    constraint5 = {(k): model_MIP_4.addConstr(gamma[k] >= quicksum((p[j] + r[j]) * u[j,k] for j in N), name = f\"constraint5_{k}\") for k in N}"
   ]
  },
  {
   "cell_type": "markdown",
   "metadata": {
    "id": "E_4BVCouOJvX"
   },
   "source": [
    "#### To minimize the number of tardy jobs\n",
    "\n",
    "$ Minimize \\ \\sum_{k=1}^n U_k$\n",
    "$ \\\\ \\gamma_k \\leq \\sum_{j \\in N}d_ju_{j,k} + MU_k \\quad \\forall k \\in N$"
   ]
  },
  {
   "cell_type": "code",
   "execution_count": 32,
   "metadata": {
    "executionInfo": {
     "elapsed": 1,
     "status": "ok",
     "timestamp": 1748257061477,
     "user": {
      "displayName": "Joonmo Sung",
      "userId": "09164233393338433441"
     },
     "user_tz": -540
    },
    "id": "VWjZfD7wOJvX"
   },
   "outputs": [],
   "source": [
    "if obj_select == \"tj\":\n",
    "    U =  {(j): model_MIP_4.addVar(vtype=GRB.BINARY, name=f\"U_{j+1}\") for j in N} # j가 Tardy job이면 1, 아니면 0인 이진변수\n",
    "\n",
    "    # Tardy job 제약식\n",
    "    constraint =  {(k): model_MIP_4.addConstr(gamma[k] <= quicksum(d[j]*u[j,k] for j in N) + M*U[k], name = f\"constraint_{k}\") for k in N}\n",
    "\n",
    "    # 목적식\n",
    "    model_MIP_4.setObjective(quicksum(U[j] for j in N), GRB.MINIMIZE)"
   ]
  },
  {
   "cell_type": "markdown",
   "metadata": {
    "id": "t-dHuGIhOJvX"
   },
   "source": [
    "#### To minimize $L_{max}$\n",
    "$ Minimize \\ L_{max}$\n",
    "$ \\\\ s.t. \\  L_{max} \\geq \\gamma_k - \\sum_{j \\in N} d_ju_{j,k} \\quad \\forall k \\in N$"
   ]
  },
  {
   "cell_type": "code",
   "execution_count": 33,
   "metadata": {
    "executionInfo": {
     "elapsed": 40,
     "status": "ok",
     "timestamp": 1748257061518,
     "user": {
      "displayName": "Joonmo Sung",
      "userId": "09164233393338433441"
     },
     "user_tz": -540
    },
    "id": "TNES7D5IOJvX"
   },
   "outputs": [],
   "source": [
    "if obj_select == \"L_max\":\n",
    "    # Lmax 선언\n",
    "    L_max = model_MIP_4.addVar(vtype=GRB.CONTINUOUS, lb = 0, name= \"L_max\") # L_max를 나타내는 연속형 변수\n",
    "\n",
    "    # Lmax 제약식\n",
    "    constraint = {(k): model_MIP_4.addConstr(L_max >= gamma[k] - quicksum(d[j]*u[j,k] for j in N), name = f\"constraint_{k}\") for k in N} # C_j 대신 바로 x제약식 넣어줌. 그리고 t = 0부터 시작하니까 t-1 해줄 필요 없음\n",
    "\n",
    "    # 목적식\n",
    "    model_MIP_4.setObjective(L_max, GRB.MINIMIZE)"
   ]
  },
  {
   "cell_type": "markdown",
   "metadata": {
    "id": "-MRJZATwOJvX"
   },
   "source": [
    "#### To minimize the total weighted completion time\n",
    "$ Minimize \\sum_{j = 1}^n w_j C_j$\n",
    "$\\\\ C_j \\geq \\gamma_k - M(1-u_{j,k}) \\quad \\forall j,k \\in N$\n",
    "$\\\\ C_j \\geq 0 \\quad \\forall j \\in N$"
   ]
  },
  {
   "cell_type": "code",
   "execution_count": 34,
   "metadata": {
    "executionInfo": {
     "elapsed": 4,
     "status": "ok",
     "timestamp": 1748257061519,
     "user": {
      "displayName": "Joonmo Sung",
      "userId": "09164233393338433441"
     },
     "user_tz": -540
    },
    "id": "TB2i1DKAOJvX"
   },
   "outputs": [],
   "source": [
    "if obj_select == \"wct\":\n",
    "    # Lmax 선언\n",
    "    C = {(j): model_MIP_4.addVar(vtype=GRB.CONTINUOUS, lb = 0, name=f\"C_{j+1}\") for j in N}\n",
    "\n",
    "    # Lmax 제약식\n",
    "    constraint = {(j, k): model_MIP_4.addConstr(C[j] >= gamma[k] - M*(1-u[j,k]), name = f\"constraint_{j}_{k}\") for j in N for k in N} # C_j 대신 바로 x제약식 넣어줌. 그리고 t = 0부터 시작하니까 t-1 해줄 필요 없음\n",
    "\n",
    "    # 목적식\n",
    "    model_MIP_4.setObjective(quicksum(w[j]*C[j] for j in N), GRB.MINIMIZE)"
   ]
  },
  {
   "cell_type": "markdown",
   "metadata": {
    "id": "Uy9qU_qZOJvX"
   },
   "source": [
    "#### To minimize the total weighted tardiness\n",
    "\n",
    "$ Minimize \\ \\sum_{j=1}^n w_jT_j$\n",
    "$\\\\ C_j \\geq \\gamma_k - M(1-u_{j,k}) \\quad \\forall j,k \\in N$\n",
    "$\\\\ C_j \\geq 0 \\quad \\forall j \\in N$\n",
    "$\\\\ T_j \\geq C_j - d_j \\quad \\forall j \\in N$\n",
    "$\\\\ T_j \\geq 0 $"
   ]
  },
  {
   "cell_type": "code",
   "execution_count": 35,
   "metadata": {
    "executionInfo": {
     "elapsed": 3,
     "status": "ok",
     "timestamp": 1748257061519,
     "user": {
      "displayName": "Joonmo Sung",
      "userId": "09164233393338433441"
     },
     "user_tz": -540
    },
    "id": "g4lDtT8dOJvX"
   },
   "outputs": [],
   "source": [
    "if obj_select == \"twt\":\n",
    "    # Lmax 선언\n",
    "    C = {(j): model_MIP_4.addVar(vtype=GRB.CONTINUOUS, lb = 0, name=f\"C_{j+1}\") for j in N}\n",
    "    T = {(j): model_MIP_4.addVar(vtype=GRB.CONTINUOUS, lb = 0, name=f\"T_{j+1}\") for j in N}\n",
    "\n",
    "    # Lmax 제약식\n",
    "    constraint = {(j, k): model_MIP_4.addConstr(C[j] >= gamma[k] - M*(1-u[j,k]), name = f\"constraint_{j}_{k}\") for j in N for k in N} # C_j 대신 바로 x제약식 넣어줌. 그리고 t = 0부터 시작하니까 t-1 해줄 필요 없음\n",
    "    constraint = {(j): model_MIP_4.addConstr(T[j] >= C[j]-d[j], name = f\"constraint_{j}\") for j in N}\n",
    "\n",
    "    # 목적식\n",
    "    model_MIP_4.setObjective(quicksum(w[j]*T[j] for j in N), GRB.MINIMIZE)"
   ]
  },
  {
   "cell_type": "code",
   "execution_count": 36,
   "metadata": {
    "colab": {
     "base_uri": "https://localhost:8080/",
     "height": 1000
    },
    "executionInfo": {
     "elapsed": 12552,
     "status": "error",
     "timestamp": 1748257074069,
     "user": {
      "displayName": "Joonmo Sung",
      "userId": "09164233393338433441"
     },
     "user_tz": -540
    },
    "id": "LJQC5EacOJvY",
    "outputId": "1cd4785a-3d50-4f41-9210-c1b788b4d74d"
   },
   "outputs": [
    {
     "name": "stdout",
     "output_type": "stream",
     "text": [
      "Gurobi Optimizer version 12.0.2 build v12.0.2rc0 (win64 - Windows 11.0 (26100.2))\n",
      "\n",
      "CPU model: 13th Gen Intel(R) Core(TM) i9-13900K, instruction set [SSE2|AVX|AVX2]\n",
      "Thread count: 24 physical cores, 32 logical processors, using up to 32 threads\n",
      "\n",
      "Optimize a model with 240 rows, 135 columns and 675 nonzeros\n",
      "Model fingerprint: 0x88bec88b\n",
      "Variable types: 30 continuous, 105 integer (105 binary)\n",
      "Coefficient statistics:\n",
      "  Matrix range     [1e+00, 7e+03]\n",
      "  Objective range  [1e+00, 1e+01]\n",
      "  Bounds range     [1e+00, 1e+00]\n",
      "  RHS range        [9e+00, 7e+03]\n",
      "Presolve removed 15 rows and 0 columns\n",
      "Presolve time: 0.00s\n",
      "Presolved: 225 rows, 135 columns, 660 nonzeros\n",
      "Variable types: 30 continuous, 105 integer (105 binary)\n",
      "Found heuristic solution: objective 6636.0000000\n",
      "\n",
      "Root relaxation: objective 0.000000e+00, 105 iterations, 0.00 seconds (0.00 work units)\n",
      "\n",
      "    Nodes    |    Current Node    |     Objective Bounds      |     Work\n",
      " Expl Unexpl |  Obj  Depth IntInf | Incumbent    BestBd   Gap | It/Node Time\n",
      "\n",
      "     0     0    0.00000    0    7 6636.00000    0.00000   100%     -    0s\n",
      "H    0     0                    4298.0000000    0.00000   100%     -    0s\n",
      "H    0     0                    4130.0000000    0.00000   100%     -    0s\n",
      "     0     0  230.00000    0   12 4130.00000  230.00000  94.4%     -    0s\n",
      "     0     0  406.00000    0   11 4130.00000  406.00000  90.2%     -    0s\n",
      "     0     0  415.00000    0   10 4130.00000  415.00000  90.0%     -    0s\n",
      "H    0     0                    4088.0000000  415.00000  89.8%     -    0s\n",
      "     0     0  415.00000    0   14 4088.00000  415.00000  89.8%     -    0s\n",
      "     0     0  523.00000    0   16 4088.00000  523.00000  87.2%     -    0s\n",
      "     0     0  523.00000    0   13 4088.00000  523.00000  87.2%     -    0s\n",
      "     0     0  523.00000    0   14 4088.00000  523.00000  87.2%     -    0s\n",
      "     0     0  523.00000    0    8 4088.00000  523.00000  87.2%     -    0s\n",
      "     0     0  523.00000    0    8 4088.00000  523.00000  87.2%     -    0s\n",
      "H    0     0                    4042.0000000  523.00000  87.1%     -    0s\n",
      "H    0     0                    3832.0000000  523.00000  86.4%     -    0s\n",
      "     0     2  523.00000    0    8 3832.00000  523.00000  86.4%     -    0s\n",
      "H    3     8                    3609.0000000  523.00000  85.5%  14.3    0s\n",
      "H   31    54                    3575.0000000  631.00000  82.3%  13.4    0s\n",
      "H   33    54                    3565.0000000  631.00000  82.3%  13.3    0s\n",
      "H   34    54                    3519.0000000  631.00000  82.1%  13.2    0s\n",
      "H   36    54                    3379.0000000  631.00000  81.3%  12.8    0s\n",
      "H  175   167                    3247.0000000  798.00000  75.4%   7.9    0s\n",
      "H  177   167                    2848.0000000  798.00000  72.0%   7.9    0s\n",
      "H  178   167                    2758.0000000  798.00000  71.1%   7.9    0s\n",
      "H  354   230                    2626.0000000  798.00000  69.6%   6.8    0s\n",
      "H 1502   435                    2582.0000000  990.00000  61.7%   5.4    0s\n",
      "H 1593   435                    2572.0000000  990.00000  61.5%   5.4    0s\n",
      "* 6996   698              28    2530.0000000 1803.00000  28.7%   5.1    0s\n",
      "* 6997   698              28    2504.0000000 1803.00000  28.0%   5.1    0s\n",
      "\n",
      "Cutting planes:\n",
      "  Gomory: 8\n",
      "  Implied bound: 32\n",
      "  MIR: 83\n",
      "  Inf proof: 92\n",
      "  RLT: 20\n",
      "  Relax-and-lift: 6\n",
      "\n",
      "Explored 11269 nodes (55355 simplex iterations) in 0.29 seconds (0.18 work units)\n",
      "Thread count was 32 (of 32 available processors)\n",
      "\n",
      "Solution count 10: 2504 2530 2572 ... 3519\n",
      "\n",
      "Optimal solution found (tolerance 1.00e-04)\n",
      "Best objective 2.504000000000e+03, best bound 2.504000000000e+03, gap 0.0000%\n",
      "Gurobi Optimizer version 12.0.2 build v12.0.2rc0 (win64 - Windows 11.0 (26100.2))\n",
      "\n",
      "CPU model: 13th Gen Intel(R) Core(TM) i9-13900K, instruction set [SSE2|AVX|AVX2]\n",
      "Thread count: 24 physical cores, 32 logical processors, using up to 32 threads\n",
      "\n",
      "Optimize a model with 1407 rows, 20880 columns and 966844 nonzeros\n",
      "Model fingerprint: 0xcc4f994e\n",
      "Variable types: 0 continuous, 20880 integer (20880 binary)\n",
      "Coefficient statistics:\n",
      "  Matrix range     [1e+00, 1e+00]\n",
      "  Objective range  [1e+00, 1e+04]\n",
      "  Bounds range     [1e+00, 1e+00]\n",
      "  RHS range        [1e+00, 1e+00]\n",
      "Found heuristic solution: objective 30702.000000\n",
      "Sparsify removed 804794 nonzeros (86%)\n",
      "Presolve added 0 rows and 456 columns\n",
      "Presolve removed 21 rows and 0 columns\n",
      "Presolve time: 1.12s\n",
      "Presolved: 1386 rows, 21336 columns, 133122 nonzeros\n",
      "Variable types: 27 continuous, 21309 integer (20184 binary)\n",
      "Deterministic concurrent LP optimizer: primal and dual simplex\n",
      "Showing primal log only...\n",
      "\n",
      "Concurrent spin time: 0.00s\n",
      "\n",
      "Solved with primal simplex\n",
      "\n",
      "Root relaxation: objective 2.429500e+03, 4531 iterations, 0.10 seconds (0.19 work units)\n",
      "\n",
      "    Nodes    |    Current Node    |     Objective Bounds      |     Work\n",
      " Expl Unexpl |  Obj  Depth IntInf | Incumbent    BestBd   Gap | It/Node Time\n",
      "\n",
      "     0     0 2429.50000    0   94 30702.0000 2429.50000  92.1%     -    1s\n",
      "H    0     0                    12779.000000 2429.50000  81.0%     -    1s\n",
      "H    0     0                    11961.000000 2429.50000  79.7%     -    1s\n",
      "H    0     0                    11941.000000 2429.50000  79.7%     -    1s\n",
      "H    0     0                    9000.0000000 2429.50000  73.0%     -    1s\n",
      "H    0     0                    6923.0000000 2429.50000  64.9%     -    1s\n",
      "H    0     0                    3887.0000000 2429.50000  37.5%     -    1s\n",
      "H    0     0                    2954.0000000 2429.50000  17.8%     -    1s\n",
      "H    0     0                    2504.0000000 2429.50000  2.98%     -    1s\n",
      "\n",
      "Cutting planes:\n",
      "  Clique: 8\n",
      "  MIR: 3\n",
      "  Zero half: 6\n",
      "  RLT: 44\n",
      "\n",
      "Explored 1 nodes (4601 simplex iterations) in 2.04 seconds (5.15 work units)\n",
      "Thread count was 32 (of 32 available processors)\n",
      "\n",
      "Solution count 9: 2504 2954 3887 ... 30702\n",
      "\n",
      "Optimal solution found (tolerance 1.00e-04)\n",
      "Best objective 2.504000000000e+03, best bound 2.504000000000e+03, gap 0.0000%\n",
      "Gurobi Optimizer version 12.0.2 build v12.0.2rc0 (win64 - Windows 11.0 (26100.2))\n",
      "\n",
      "CPU model: 13th Gen Intel(R) Core(TM) i9-13900K, instruction set [SSE2|AVX|AVX2]\n",
      "Thread count: 24 physical cores, 32 logical processors, using up to 32 threads\n",
      "\n",
      "Optimize a model with 2850 rows, 240 columns and 8625 nonzeros\n",
      "Model fingerprint: 0x2a822682\n",
      "Variable types: 15 continuous, 225 integer (225 binary)\n",
      "Coefficient statistics:\n",
      "  Matrix range     [1e+00, 9e+01]\n",
      "  Objective range  [1e+00, 1e+01]\n",
      "  Bounds range     [1e+00, 1e+00]\n",
      "  RHS range        [1e+00, 6e+02]\n",
      "Found heuristic solution: objective 14484.000000\n",
      "Presolve removed 1925 rows and 120 columns\n",
      "Presolve time: 0.01s\n",
      "Presolved: 925 rows, 120 columns, 2955 nonzeros\n",
      "Variable types: 0 continuous, 120 integer (105 binary)\n",
      "\n",
      "Root relaxation: objective 1.987377e+03, 105 iterations, 0.00 seconds (0.00 work units)\n",
      "\n",
      "    Nodes    |    Current Node    |     Objective Bounds      |     Work\n",
      " Expl Unexpl |  Obj  Depth IntInf | Incumbent    BestBd   Gap | It/Node Time\n",
      "\n",
      "     0     0 1987.37656    0   21 14484.0000 1987.37656  86.3%     -    0s\n",
      "H    0     0                    3359.0000000 1987.37656  40.8%     -    0s\n",
      "H    0     0                    3015.0000000 1987.37656  34.1%     -    0s\n",
      "H    0     0                    2726.0000000 1987.37656  27.1%     -    0s\n",
      "H    0     0                    2530.0000000 1987.37656  21.4%     -    0s\n",
      "H    0     0                    2504.0000000 1987.37656  20.6%     -    0s\n",
      "     0     0 2094.71641    0   40 2504.00000 2094.71641  16.3%     -    0s\n",
      "     0     0 2100.51918    0   38 2504.00000 2100.51918  16.1%     -    0s\n",
      "     0     0 2104.24711    0   41 2504.00000 2104.24711  16.0%     -    0s\n",
      "     0     0 2104.32993    0   41 2504.00000 2104.32993  16.0%     -    0s\n",
      "     0     0 2245.05763    0   47 2504.00000 2245.05763  10.3%     -    0s\n",
      "     0     0 2305.83810    0   53 2504.00000 2305.83810  7.91%     -    0s\n",
      "     0     0 2305.83810    0   53 2504.00000 2305.83810  7.91%     -    0s\n",
      "     0     0 2306.05040    0   56 2504.00000 2306.05040  7.91%     -    0s\n",
      "     0     0 2311.92601    0   54 2504.00000 2311.92601  7.67%     -    0s\n",
      "\n",
      "Cutting planes:\n",
      "  Gomory: 3\n",
      "  Lift-and-project: 4\n",
      "  MIR: 22\n",
      "  StrongCG: 7\n",
      "  Flow cover: 1\n",
      "  RLT: 5\n",
      "  Relax-and-lift: 1\n",
      "\n",
      "Explored 1 nodes (513 simplex iterations) in 0.09 seconds (0.06 work units)\n",
      "Thread count was 32 (of 32 available processors)\n",
      "\n",
      "Solution count 6: 2504 2530 2726 ... 14484\n",
      "\n",
      "Optimal solution found (tolerance 1.00e-04)\n",
      "Best objective 2.504000000000e+03, best bound 2.504000000000e+03, gap 0.0000%\n",
      "Gurobi Optimizer version 12.0.2 build v12.0.2rc0 (win64 - Windows 11.0 (26100.2))\n",
      "\n",
      "CPU model: 13th Gen Intel(R) Core(TM) i9-13900K, instruction set [SSE2|AVX|AVX2]\n",
      "Thread count: 24 physical cores, 32 logical processors, using up to 32 threads\n",
      "\n",
      "Optimize a model with 285 rows, 270 columns and 1409 nonzeros\n",
      "Model fingerprint: 0x4bbda140\n",
      "Variable types: 45 continuous, 225 integer (225 binary)\n",
      "Coefficient statistics:\n",
      "  Matrix range     [1e+00, 7e+03]\n",
      "  Objective range  [1e+00, 1e+01]\n",
      "  Bounds range     [1e+00, 1e+00]\n",
      "  RHS range        [1e+00, 7e+03]\n",
      "Presolve removed 61 rows and 15 columns\n",
      "Presolve time: 0.01s\n",
      "Presolved: 224 rows, 255 columns, 2345 nonzeros\n",
      "Variable types: 0 continuous, 255 integer (225 binary)\n",
      "Found heuristic solution: objective 6636.0000000\n",
      "\n",
      "Root relaxation: objective 0.000000e+00, 113 iterations, 0.00 seconds (0.00 work units)\n",
      "\n",
      "    Nodes    |    Current Node    |     Objective Bounds      |     Work\n",
      " Expl Unexpl |  Obj  Depth IntInf | Incumbent    BestBd   Gap | It/Node Time\n",
      "\n",
      "     0     0    0.00000    0   31 6636.00000    0.00000   100%     -    0s\n",
      "     0     0    0.00000    0   45 6636.00000    0.00000   100%     -    0s\n",
      "H    0     0                    6547.0000000    0.00000   100%     -    0s\n",
      "H    0     0                    6257.0000000    0.00000   100%     -    0s\n",
      "H    0     0                    3811.0000000    0.00000   100%     -    0s\n",
      "     0     0    0.00000    0   35 3811.00000    0.00000   100%     -    0s\n",
      "H    0     0                    3586.0000000    0.00000   100%     -    0s\n",
      "H    0     0                    3443.0000000    0.00000   100%     -    0s\n",
      "     0     0    0.00000    0   33 3443.00000    0.00000   100%     -    0s\n",
      "     0     0    0.00000    0   43 3443.00000    0.00000   100%     -    0s\n",
      "     0     0    0.00000    0   33 3443.00000    0.00000   100%     -    0s\n",
      "     0     0    0.00000    0   33 3443.00000    0.00000   100%     -    0s\n",
      "     0     2    5.00000    0   33 3443.00000    5.00000   100%     -    0s\n",
      "H   40    56                    3333.0000000   28.57600  99.1%  37.6    0s\n",
      "H  175   259                    3294.0000000   45.39443  98.6%  19.9    0s\n",
      "H  191   259                    3129.0000000   45.39443  98.5%  18.7    0s\n",
      "H  218   259                    3126.0000000   45.39443  98.5%  18.1    0s\n",
      "H  231   259                    3125.0000000   45.39443  98.5%  17.3    0s\n",
      "H 1144   996                    2922.0000000   45.39443  98.4%  13.6    0s\n",
      "H 2393  1737                    2890.0000000  120.00000  95.8%  12.8    0s\n",
      "H 3452  1973                    2885.0000000  120.00000  95.8%  11.7    0s\n",
      "H 3452  1874                    2825.0000000  120.00000  95.8%  11.7    0s\n",
      "H 3452  1780                    2760.0000000  120.00000  95.7%  11.7    0s\n",
      "H 3452  1691                    2643.0000000  120.00000  95.5%  11.7    0s\n",
      "H 3454  1608                    2617.0000000  120.00000  95.4%  11.7    0s\n",
      "H 3556  1619                    2582.0000000  171.86443  93.3%  11.9    0s\n",
      "H 3561  1540                    2572.0000000  171.86443  93.3%  11.9    0s\n",
      "H 3632  1550                    2504.0000000  171.86443  93.1%  11.9    0s\n",
      "\n",
      "Cutting planes:\n",
      "  Implied bound: 3\n",
      "  MIR: 1\n",
      "  RLT: 4\n",
      "\n",
      "Explored 54596 nodes (476826 simplex iterations) in 1.61 seconds (1.29 work units)\n",
      "Thread count was 32 (of 32 available processors)\n",
      "\n",
      "Solution count 10: 2504 2504 2572 ... 2890\n",
      "\n",
      "Optimal solution found (tolerance 1.00e-04)\n",
      "Best objective 2.504000000000e+03, best bound 2.504000000000e+03, gap 0.0000%\n"
     ]
    }
   ],
   "source": [
    "model_MIP_1.optimize()\n",
    "model_MIP_2.optimize()\n",
    "model_MIP_3.optimize()\n",
    "model_MIP_4.optimize()"
   ]
  },
  {
   "cell_type": "code",
   "execution_count": 37,
   "metadata": {
    "executionInfo": {
     "elapsed": 14399,
     "status": "aborted",
     "timestamp": 1748257074107,
     "user": {
      "displayName": "Joonmo Sung",
      "userId": "09164233393338433441"
     },
     "user_tz": -540
    },
    "id": "3zXeGfDHOJvY"
   },
   "outputs": [
    {
     "name": "stdout",
     "output_type": "stream",
     "text": [
      "2504.0\n",
      "2504.0\n",
      "2504.0\n",
      "2504.0\n"
     ]
    }
   ],
   "source": [
    "# 목적식 value\n",
    "print(model_MIP_1.ObjVal)\n",
    "print(model_MIP_2.ObjVal)\n",
    "print(model_MIP_3.ObjVal)\n",
    "print(model_MIP_4.ObjVal)"
   ]
  },
  {
   "cell_type": "code",
   "execution_count": 38,
   "metadata": {
    "executionInfo": {
     "elapsed": 14399,
     "status": "aborted",
     "timestamp": 1748257074108,
     "user": {
      "displayName": "Joonmo Sung",
      "userId": "09164233393338433441"
     },
     "user_tz": -540
    },
    "id": "0jcdwjNKOJvY"
   },
   "outputs": [
    {
     "name": "stdout",
     "output_type": "stream",
     "text": [
      "0.292\n",
      "2.048\n",
      "0.089\n",
      "1.615\n"
     ]
    }
   ],
   "source": [
    "# 문제 푸는 데 걸린 시간\n",
    "print(round(model_MIP_1.RunTime, 3))\n",
    "print(round(model_MIP_2.RunTime, 3))\n",
    "print(round(model_MIP_3.RunTime, 3))\n",
    "print(round(model_MIP_4.RunTime, 3))"
   ]
  },
  {
   "cell_type": "code",
   "execution_count": 39,
   "metadata": {
    "executionInfo": {
     "elapsed": 1,
     "status": "aborted",
     "timestamp": 1748257074144,
     "user": {
      "displayName": "Joonmo Sung",
      "userId": "09164233393338433441"
     },
     "user_tz": -540
    },
    "id": "7JQerDcTOJvY"
   },
   "outputs": [
    {
     "name": "stdout",
     "output_type": "stream",
     "text": [
      "C_1 696.0\n",
      "C_2 220.0\n",
      "C_3 586.0\n",
      "C_4 608.0\n",
      "C_5 492.0\n",
      "C_6 521.0\n",
      "C_7 347.0\n",
      "C_8 338.0\n",
      "C_9 12.0\n",
      "C_10 508.0\n",
      "C_11 238.0\n",
      "C_12 129.0\n",
      "C_13 429.0\n",
      "C_14 67.0\n",
      "C_15 268.0\n",
      "y_2_3 1.0\n",
      "y_2_4 1.0\n",
      "y_2_5 1.0\n",
      "y_2_6 1.0\n",
      "y_2_7 1.0\n",
      "y_2_8 1.0\n",
      "y_2_10 1.0\n",
      "y_2_11 1.0\n",
      "y_2_13 1.0\n",
      "y_2_15 1.0\n",
      "y_3_4 1.0\n",
      "y_5_6 1.0\n",
      "y_5_10 1.0\n",
      "y_7_10 1.0\n",
      "y_7_13 1.0\n",
      "y_8_10 1.0\n",
      "y_8_13 1.0\n",
      "y_9_10 1.0\n",
      "y_9_11 1.0\n",
      "y_9_12 1.0\n",
      "y_9_13 1.0\n",
      "y_9_14 1.0\n",
      "y_9_15 1.0\n",
      "y_11_13 1.0\n",
      "y_11_15 1.0\n",
      "y_12_13 1.0\n",
      "y_12_15 1.0\n",
      "y_14_15 1.0\n",
      "T_1 120.0\n",
      "T_2 34.0\n",
      "T_3 59.0\n",
      "T_5 413.0\n",
      "T_8 57.0\n",
      "T_10 11.0\n",
      "T_12 26.0\n",
      "T_13 38.0\n",
      "Objective value: 2504.0\n"
     ]
    }
   ],
   "source": [
    "# Objective solution 출력 과정\n",
    "for v in model_MIP_1.getVars():\n",
    "    if v.x > 1e-6:\n",
    "        print(v.varName, v.x)\n",
    "\n",
    "print(\"Objective value:\", model_MIP_1.objVal)"
   ]
  },
  {
   "cell_type": "code",
   "execution_count": 40,
   "metadata": {
    "executionInfo": {
     "elapsed": 2,
     "status": "aborted",
     "timestamp": 1748257074145,
     "user": {
      "displayName": "Joonmo Sung",
      "userId": "09164233393338433441"
     },
     "user_tz": -540
    },
    "id": "WOWqIv5hOJvY"
   },
   "outputs": [
    {
     "name": "stdout",
     "output_type": "stream",
     "text": [
      "x_1_608 1.0\n",
      "x_2_129 1.0\n",
      "x_3_521 1.0\n",
      "x_4_586 1.0\n",
      "x_5_429 1.0\n",
      "x_6_508 1.0\n",
      "x_7_338 1.0\n",
      "x_8_268 1.0\n",
      "x_9_0 1.0\n",
      "x_10_492 1.0\n",
      "x_11_220 1.0\n",
      "x_12_67 1.0\n",
      "x_13_347 1.0\n",
      "x_14_12 1.0\n",
      "x_15_238 1.0\n",
      "Objective value: 2504.0\n"
     ]
    }
   ],
   "source": [
    "# Objective solution 출력 과정\n",
    "for v in model_MIP_2.getVars():\n",
    "    if v.x > 1e-6:\n",
    "        print(v.varName, v.x)\n",
    "\n",
    "print(\"Objective value:\", model_MIP_2.objVal)"
   ]
  },
  {
   "cell_type": "code",
   "execution_count": 41,
   "metadata": {
    "executionInfo": {
     "elapsed": 2,
     "status": "aborted",
     "timestamp": 1748257074146,
     "user": {
      "displayName": "Joonmo Sung",
      "userId": "09164233393338433441"
     },
     "user_tz": -540
    },
    "id": "dUTc-JmEOJvY"
   },
   "outputs": [
    {
     "name": "stdout",
     "output_type": "stream",
     "text": [
      "delta_2_1 1.0\n",
      "delta_2_3 1.0\n",
      "delta_2_4 1.0\n",
      "delta_2_5 1.0\n",
      "delta_2_6 1.0\n",
      "delta_2_7 1.0\n",
      "delta_2_8 1.0\n",
      "delta_2_10 1.0\n",
      "delta_2_11 1.0\n",
      "delta_2_13 1.0\n",
      "delta_2_15 1.0\n",
      "delta_3_1 1.0\n",
      "delta_3_4 1.0\n",
      "delta_4_1 1.0\n",
      "delta_5_1 1.0\n",
      "delta_5_3 1.0\n",
      "delta_5_4 1.0\n",
      "delta_5_6 1.0\n",
      "delta_5_10 1.0\n",
      "delta_6_1 1.0\n",
      "delta_6_3 1.0\n",
      "delta_6_4 1.0\n",
      "delta_7_1 1.0\n",
      "delta_7_3 1.0\n",
      "delta_7_4 1.0\n",
      "delta_7_5 1.0\n",
      "delta_7_6 1.0\n",
      "delta_7_10 1.0\n",
      "delta_7_13 1.0\n",
      "delta_8_1 1.0\n",
      "delta_8_3 1.0\n",
      "delta_8_4 1.0\n",
      "delta_8_5 1.0\n",
      "delta_8_6 1.0\n",
      "delta_8_7 1.0\n",
      "delta_8_10 1.0\n",
      "delta_8_13 1.0\n",
      "delta_9_1 1.0\n",
      "delta_9_2 1.0\n",
      "delta_9_3 1.0\n",
      "delta_9_4 1.0\n",
      "delta_9_5 1.0\n",
      "delta_9_6 1.0\n",
      "delta_9_7 1.0\n",
      "delta_9_8 1.0\n",
      "delta_9_10 1.0\n",
      "delta_9_11 1.0\n",
      "delta_9_12 1.0\n",
      "delta_9_13 1.0\n",
      "delta_9_15 1.0\n",
      "delta_10_1 1.0\n",
      "delta_10_3 1.0\n",
      "delta_10_4 1.0\n",
      "delta_10_6 1.0\n",
      "delta_11_1 1.0\n",
      "delta_11_3 1.0\n",
      "delta_11_4 1.0\n",
      "delta_11_5 1.0\n",
      "delta_11_6 1.0\n",
      "delta_11_7 1.0\n",
      "delta_11_8 1.0\n",
      "delta_11_10 1.0\n",
      "delta_11_13 1.0\n",
      "delta_11_15 1.0\n",
      "delta_12_1 1.0\n",
      "delta_12_2 1.0\n",
      "delta_12_3 1.0\n",
      "delta_12_4 1.0\n",
      "delta_12_5 1.0\n",
      "delta_12_6 1.0\n",
      "delta_12_7 1.0\n",
      "delta_12_8 1.0\n",
      "delta_12_10 1.0\n",
      "delta_12_11 1.0\n",
      "delta_12_13 1.0\n",
      "delta_12_15 1.0\n",
      "delta_13_1 1.0\n",
      "delta_13_3 1.0\n",
      "delta_13_4 1.0\n",
      "delta_13_5 1.0\n",
      "delta_13_6 1.0\n",
      "delta_13_10 1.0\n",
      "delta_14_1 1.0\n",
      "delta_14_2 1.0\n",
      "delta_14_3 1.0\n",
      "delta_14_4 1.0\n",
      "delta_14_5 1.0\n",
      "delta_14_6 1.0\n",
      "delta_14_7 1.0\n",
      "delta_14_8 1.0\n",
      "delta_14_9 1.0\n",
      "delta_14_10 1.0\n",
      "delta_14_11 1.0\n",
      "delta_14_12 1.0\n",
      "delta_14_13 1.0\n",
      "delta_14_15 1.0\n",
      "delta_15_1 1.0\n",
      "delta_15_3 1.0\n",
      "delta_15_4 1.0\n",
      "delta_15_5 1.0\n",
      "delta_15_6 1.0\n",
      "delta_15_7 1.0\n",
      "delta_15_8 1.0\n",
      "delta_15_10 1.0\n",
      "delta_15_13 1.0\n",
      "T_1 120.0\n",
      "T_2 34.0\n",
      "T_3 59.0\n",
      "T_5 413.0\n",
      "T_8 57.0\n",
      "T_10 11.0\n",
      "T_12 26.0\n",
      "T_13 38.0\n",
      "Objective value: 2504.0\n"
     ]
    }
   ],
   "source": [
    "# Objective solution 출력 과정\n",
    "for v in model_MIP_3.getVars():\n",
    "    if v.x > 1e-6:\n",
    "        print(v.varName, v.x)\n",
    "\n",
    "print(\"Objective value:\", model_MIP_3.objVal)"
   ]
  },
  {
   "cell_type": "code",
   "execution_count": 42,
   "metadata": {
    "executionInfo": {
     "elapsed": 2,
     "status": "aborted",
     "timestamp": 1748257074146,
     "user": {
      "displayName": "Joonmo Sung",
      "userId": "09164233393338433441"
     },
     "user_tz": -540
    },
    "id": "hbeRmVxoOJvY"
   },
   "outputs": [
    {
     "name": "stdout",
     "output_type": "stream",
     "text": [
      "u_0_14 1.0\n",
      "u_1_3 1.0\n",
      "u_2_12 1.0\n",
      "u_3_13 1.0\n",
      "u_4_9 1.0\n",
      "u_5_11 1.0\n",
      "u_6_7 1.0\n",
      "u_7_6 1.0\n",
      "u_8_0 1.0\n",
      "u_9_10 1.0\n",
      "u_10_4 1.0\n",
      "u_11_2 1.0\n",
      "u_12_8 1.0\n",
      "u_13_1 1.0\n",
      "u_14_5 1.0\n",
      "gamma_1 12.0\n",
      "gamma_2 67.0\n",
      "gamma_3 129.0\n",
      "gamma_4 220.0\n",
      "gamma_5 238.0\n",
      "gamma_6 268.0\n",
      "gamma_7 338.0\n",
      "gamma_8 347.0\n",
      "gamma_9 429.0\n",
      "gamma_10 492.0\n",
      "gamma_11 508.0\n",
      "gamma_12 521.0\n",
      "gamma_13 586.0\n",
      "gamma_14 608.0\n",
      "gamma_15 696.0\n",
      "C_1 696.0\n",
      "C_2 220.0\n",
      "C_3 586.0\n",
      "C_4 608.0\n",
      "C_5 492.0\n",
      "C_6 521.0\n",
      "C_7 347.0\n",
      "C_8 338.0\n",
      "C_9 12.0\n",
      "C_10 508.0\n",
      "C_11 238.0\n",
      "C_12 129.0\n",
      "C_13 429.0\n",
      "C_14 67.0\n",
      "C_15 268.0\n",
      "T_1 120.0\n",
      "T_2 34.0\n",
      "T_3 59.0\n",
      "T_5 413.0\n",
      "T_8 57.0\n",
      "T_10 11.0\n",
      "T_12 26.0\n",
      "T_13 38.0\n",
      "Objective value: 2504.0\n"
     ]
    }
   ],
   "source": [
    "# Objective solution 출력 과정\n",
    "for v in model_MIP_4.getVars():\n",
    "    if v.x > 1e-6:\n",
    "        print(v.varName, v.x)\n",
    "\n",
    "print(\"Objective value:\", model_MIP_4.objVal)"
   ]
  }
 ],
 "metadata": {
  "colab": {
   "provenance": []
  },
  "kernelspec": {
   "display_name": "Python 3",
   "language": "python",
   "name": "python3"
  },
  "language_info": {
   "codemirror_mode": {
    "name": "ipython",
    "version": 3
   },
   "file_extension": ".py",
   "mimetype": "text/x-python",
   "name": "python",
   "nbconvert_exporter": "python",
   "pygments_lexer": "ipython3",
   "version": "3.12.8"
  },
  "orig_nbformat": 4
 },
 "nbformat": 4,
 "nbformat_minor": 0
}
